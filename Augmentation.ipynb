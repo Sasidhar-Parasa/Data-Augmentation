{
 "cells": [
  {
   "cell_type": "code",
   "execution_count": 1,
   "id": "212dd9da",
   "metadata": {},
   "outputs": [
    {
     "data": {
      "text/plain": [
       "'C:\\\\Users\\\\Lenovo'"
      ]
     },
     "execution_count": 1,
     "metadata": {},
     "output_type": "execute_result"
    }
   ],
   "source": [
    "import os\n",
    "os.getcwd()"
   ]
  },
  {
   "cell_type": "code",
   "execution_count": 2,
   "id": "e28b52a1",
   "metadata": {},
   "outputs": [],
   "source": [
    "os.chdir('C:\\\\Users\\\\Lenovo\\\\Downloads\\\\GI-tract')"
   ]
  },
  {
   "cell_type": "code",
   "execution_count": 3,
   "id": "eaa112e0",
   "metadata": {},
   "outputs": [],
   "source": [
    "import pandas as pd\n",
    "import numpy as np\n",
    "import seaborn as sb\n",
    "import matplotlib.pyplot as plt\n",
    "%matplotlib inline\n",
    "import warnings\n",
    "warnings.filterwarnings('ignore')"
   ]
  },
  {
   "cell_type": "code",
   "execution_count": 4,
   "id": "ae9dde14",
   "metadata": {},
   "outputs": [],
   "source": [
    "from keras.preprocessing.image import ImageDataGenerator\n",
    "from skimage import io "
   ]
  },
  {
   "cell_type": "code",
   "execution_count": 5,
   "id": "20f167af",
   "metadata": {},
   "outputs": [],
   "source": [
    "from tensorflow.keras.preprocessing.image import ImageDataGenerator\n",
    "from matplotlib.pyplot import imread, imshow, subplots, show\n",
    "import numpy as np\n",
    "import os\n",
    "from PIL import Image\n",
    "from skimage import io"
   ]
  },
  {
   "cell_type": "code",
   "execution_count": 6,
   "id": "8e35f922",
   "metadata": {},
   "outputs": [],
   "source": [
    "datagen = ImageDataGenerator(        \n",
    "            rotation_range=45,\n",
    "            width_shift_range=0.3,  \n",
    "            height_shift_range=0.3,            \n",
    "            horizontal_flip=True,         \n",
    "            fill_mode='reflect')"
   ]
  },
  {
   "cell_type": "markdown",
   "id": "7a38e9b1",
   "metadata": {},
   "source": [
    "## hemorrhoids"
   ]
  },
  {
   "cell_type": "code",
   "execution_count": 8,
   "id": "91e95894",
   "metadata": {},
   "outputs": [
    {
     "name": "stdout",
     "output_type": "stream",
     "text": [
      "Found 5 images belonging to 1 classes.\n"
     ]
    }
   ],
   "source": [
    "i = 0\n",
    "for batch in datagen.flow_from_directory(directory='C:\\\\Users\\\\Lenovo\\\\Downloads\\\\GI-tract\\\\Her',\n",
    "                                          batch_size=16,\n",
    "                                          target_size=(256, 256),   \n",
    "                                          color_mode=\"rgb\",     \n",
    "                                          save_to_dir='C:\\\\Users\\\\Lenovo\\\\Downloads\\\\GI-tract\\\\Augmented\\\\hemorrhoids_augment',   \n",
    "                                          save_prefix='aug',    \n",
    "                                          save_format='png'):    \n",
    "   i += 1    \n",
    "   if i > 228:        \n",
    "     break"
   ]
  },
  {
   "cell_type": "markdown",
   "id": "5934e9cc",
   "metadata": {},
   "source": [
    "## ileum"
   ]
  },
  {
   "cell_type": "code",
   "execution_count": 9,
   "id": "9d34ab01",
   "metadata": {},
   "outputs": [
    {
     "name": "stdout",
     "output_type": "stream",
     "text": [
      "Found 5 images belonging to 1 classes.\n"
     ]
    }
   ],
   "source": [
    "i = 0\n",
    "for batch in datagen.flow_from_directory(directory='C:\\\\Users\\\\Lenovo\\\\Downloads\\\\GI-tract\\\\ile',\n",
    "                                          batch_size=16,\n",
    "                                          target_size=(256, 256),   \n",
    "                                          color_mode=\"rgb\",     \n",
    "                                          save_to_dir='C:\\\\Users\\\\Lenovo\\\\Downloads\\\\GI-tract\\\\Augmented\\\\ileum_augment',   \n",
    "                                          save_prefix='aug',    \n",
    "                                          save_format='png'):    \n",
    "   i += 1    \n",
    "   if i > 228:        \n",
    "     break"
   ]
  },
  {
   "cell_type": "markdown",
   "id": "c6f4925f",
   "metadata": {},
   "source": [
    "## ulcerative-colitis-grade-1-2 "
   ]
  },
  {
   "cell_type": "code",
   "execution_count": 10,
   "id": "b92c3241",
   "metadata": {},
   "outputs": [
    {
     "name": "stdout",
     "output_type": "stream",
     "text": [
      "Found 6 images belonging to 1 classes.\n"
     ]
    }
   ],
   "source": [
    "i = 0\n",
    "for batch in datagen.flow_from_directory(directory='C:\\\\Users\\\\Lenovo\\\\Downloads\\\\GI-tract\\\\ul-1-2',\n",
    "                                          batch_size=16,\n",
    "                                          target_size=(256, 256),   \n",
    "                                          color_mode=\"rgb\",     \n",
    "                                          save_to_dir='C:\\\\Users\\\\Lenovo\\\\Downloads\\\\GI-tract\\\\Augmented\\\\ulcerative-colitis-grade-1-2_augment',   \n",
    "                                          save_prefix='aug',    \n",
    "                                          save_format='png'):    \n",
    "   i += 1    \n",
    "   if i > 189:        \n",
    "     break"
   ]
  },
  {
   "cell_type": "markdown",
   "id": "656bab2e",
   "metadata": {},
   "source": [
    "## ulcerative-colitis-grade-2-3  "
   ]
  },
  {
   "cell_type": "code",
   "execution_count": 12,
   "id": "6f93328e",
   "metadata": {},
   "outputs": [
    {
     "name": "stdout",
     "output_type": "stream",
     "text": [
      "Found 20 images belonging to 1 classes.\n"
     ]
    }
   ],
   "source": [
    "i = 0\n",
    "for batch in datagen.flow_from_directory(directory='C:\\\\Users\\\\Lenovo\\\\Downloads\\\\GI-tract\\\\ul-2-3',\n",
    "                                          batch_size=16,\n",
    "                                          target_size=(256, 256),   \n",
    "                                          color_mode=\"rgb\",     \n",
    "                                          save_to_dir='C:\\\\Users\\\\Lenovo\\\\Downloads\\\\GI-tract\\\\Augmented\\\\ulcerative-colitis-grade-2-3_augment',   \n",
    "                                          save_prefix='aug',    \n",
    "                                          save_format='png'):    \n",
    "   i += 1    \n",
    "   if i > 56:        \n",
    "     break"
   ]
  },
  {
   "cell_type": "markdown",
   "id": "5a685227",
   "metadata": {},
   "source": [
    "## ulcerative-colitis-grade-0-1"
   ]
  },
  {
   "cell_type": "code",
   "execution_count": 13,
   "id": "31af0258",
   "metadata": {},
   "outputs": [
    {
     "name": "stdout",
     "output_type": "stream",
     "text": [
      "Found 27 images belonging to 1 classes.\n"
     ]
    }
   ],
   "source": [
    "i = 0\n",
    "for batch in datagen.flow_from_directory(directory='C:\\\\Users\\\\Lenovo\\\\Downloads\\\\GI-tract\\\\ul-0-1',\n",
    "                                          batch_size=16,\n",
    "                                          target_size=(256, 256),   \n",
    "                                          color_mode=\"rgb\",     \n",
    "                                          save_to_dir='C:\\\\Users\\\\Lenovo\\\\Downloads\\\\GI-tract\\\\Augmented\\\\ulcerative-colitis-grade-0-1_augment',   \n",
    "                                          save_prefix='aug',    \n",
    "                                          save_format='png'):    \n",
    "   i += 1    \n",
    "   if i > 41:        \n",
    "     break"
   ]
  },
  {
   "cell_type": "markdown",
   "id": "34215822",
   "metadata": {},
   "source": [
    "## barretts"
   ]
  },
  {
   "cell_type": "code",
   "execution_count": 19,
   "id": "dd643516",
   "metadata": {},
   "outputs": [
    {
     "name": "stdout",
     "output_type": "stream",
     "text": [
      "Found 426 images belonging to 2 classes.\n"
     ]
    }
   ],
   "source": [
    "i = 0\n",
    "for batch in datagen.flow_from_directory(directory='C:\\\\Users\\\\Lenovo\\\\Downloads\\\\GI-tract\\\\bar',\n",
    "                                          batch_size=16,\n",
    "                                          target_size=(256, 256),   \n",
    "                                          color_mode=\"rgb\",     \n",
    "                                          save_to_dir='C:\\\\Users\\\\Lenovo\\\\Downloads\\\\GI-tract\\\\Augmented\\\\barretts_augment',   \n",
    "                                          save_prefix='aug',    \n",
    "                                          save_format='png'):    \n",
    "   i += 1    \n",
    "   if i > 27:        \n",
    "     break"
   ]
  },
  {
   "cell_type": "code",
   "execution_count": 20,
   "id": "16c28eab",
   "metadata": {},
   "outputs": [
    {
     "name": "stdout",
     "output_type": "stream",
     "text": [
      "Found 426 images belonging to 2 classes.\n"
     ]
    }
   ],
   "source": [
    "i = 0\n",
    "for batch in datagen.flow_from_directory(directory='C:\\\\Users\\\\Lenovo\\\\Downloads\\\\GI-tract\\\\bar',\n",
    "                                          batch_size=16,\n",
    "                                          target_size=(256, 256),   \n",
    "                                          color_mode=\"rgb\",     \n",
    "                                          save_to_dir='C:\\\\Users\\\\Lenovo\\\\Downloads\\\\GI-tract\\\\Augmented\\\\barretts_augment',   \n",
    "                                          save_prefix='aug',    \n",
    "                                          save_format='png'):    \n",
    "   i += 1    \n",
    "   if i > 30:        \n",
    "     break"
   ]
  },
  {
   "cell_type": "code",
   "execution_count": 23,
   "id": "bf1c044f",
   "metadata": {},
   "outputs": [
    {
     "name": "stdout",
     "output_type": "stream",
     "text": [
      "Found 41 images belonging to 1 classes.\n"
     ]
    }
   ],
   "source": [
    "i = 0\n",
    "for batch in datagen.flow_from_directory(directory='C:\\\\Users\\\\Lenovo\\\\Downloads\\\\GI-tract\\\\bar',\n",
    "                                          batch_size=16,\n",
    "                                          target_size=(256, 256),   \n",
    "                                          color_mode=\"rgb\",     \n",
    "                                          save_to_dir='C:\\\\Users\\\\Lenovo\\\\Downloads\\\\GI-tract\\\\Augmented\\\\barretts_augment',   \n",
    "                                          save_prefix='aug',    \n",
    "                                          save_format='png'):    \n",
    "   i += 1    \n",
    "   if i > 4:        \n",
    "     break"
   ]
  },
  {
   "cell_type": "markdown",
   "id": "0e3780e6",
   "metadata": {},
   "source": [
    "## barretts-short-segment"
   ]
  },
  {
   "cell_type": "code",
   "execution_count": 24,
   "id": "f52df0a8",
   "metadata": {},
   "outputs": [
    {
     "name": "stdout",
     "output_type": "stream",
     "text": [
      "Found 53 images belonging to 1 classes.\n"
     ]
    }
   ],
   "source": [
    "i = 0\n",
    "for batch in datagen.flow_from_directory(directory='C:\\\\Users\\\\Lenovo\\\\Downloads\\\\GI-tract\\\\bar-short',\n",
    "                                          batch_size=16,\n",
    "                                          target_size=(256, 256),   \n",
    "                                          color_mode=\"rgb\",     \n",
    "                                          save_to_dir='C:\\\\Users\\\\Lenovo\\\\Downloads\\\\GI-tract\\\\Augmented\\\\barretts-short-segment_augment',   \n",
    "                                          save_prefix='aug',    \n",
    "                                          save_format='png'):    \n",
    "   i += 1    \n",
    "   if i > 21:        \n",
    "     break"
   ]
  },
  {
   "cell_type": "code",
   "execution_count": 26,
   "id": "a8b5009e",
   "metadata": {},
   "outputs": [
    {
     "name": "stdout",
     "output_type": "stream",
     "text": [
      "Found 350 images belonging to 2 classes.\n"
     ]
    }
   ],
   "source": [
    "i = 0\n",
    "for batch in datagen.flow_from_directory(directory='C:\\\\Users\\\\Lenovo\\\\Downloads\\\\GI-tract\\\\bar-short',\n",
    "                                          batch_size=16,\n",
    "                                          target_size=(256, 256),   \n",
    "                                          color_mode=\"rgb\",     \n",
    "                                          save_to_dir='C:\\\\Users\\\\Lenovo\\\\Downloads\\\\GI-tract\\\\Augmented\\\\barretts-short-segment_augment',   \n",
    "                                          save_prefix='aug',    \n",
    "                                          save_format='png'):    \n",
    "   i += 1    \n",
    "   if i > 21:        \n",
    "     break"
   ]
  },
  {
   "cell_type": "markdown",
   "id": "9120eefe",
   "metadata": {},
   "source": [
    "## impacted-stool"
   ]
  },
  {
   "cell_type": "code",
   "execution_count": 28,
   "id": "f39583f6",
   "metadata": {},
   "outputs": [
    {
     "name": "stdout",
     "output_type": "stream",
     "text": [
      "Found 131 images belonging to 1 classes.\n"
     ]
    }
   ],
   "source": [
    "i = 0\n",
    "for batch in datagen.flow_from_directory(directory='C:\\\\Users\\\\Lenovo\\\\Downloads\\\\GI-tract\\\\Impact',\n",
    "                                          batch_size=16,\n",
    "                                          target_size=(256, 256),   \n",
    "                                          color_mode=\"rgb\",     \n",
    "                                          save_to_dir='C:\\\\Users\\\\Lenovo\\\\Downloads\\\\GI-tract\\\\Augmented\\\\impacted-stool_augment',   \n",
    "                                          save_prefix='aug',    \n",
    "                                          save_format='png'):    \n",
    "   i += 1    \n",
    "   if i > 50:        \n",
    "     break"
   ]
  },
  {
   "cell_type": "markdown",
   "id": "f1571e00",
   "metadata": {},
   "source": [
    "## ulcerative-colitis-grade-3"
   ]
  },
  {
   "cell_type": "code",
   "execution_count": 31,
   "id": "c179a782",
   "metadata": {},
   "outputs": [
    {
     "name": "stdout",
     "output_type": "stream",
     "text": [
      "Found 91 images belonging to 1 classes.\n"
     ]
    }
   ],
   "source": [
    "i = 0\n",
    "for batch in datagen.flow_from_directory(directory='C:\\\\Users\\\\Lenovo\\\\Downloads\\\\GI-tract\\\\ul-3',\n",
    "                                          batch_size=16,\n",
    "                                          target_size=(256, 256),   \n",
    "                                          color_mode=\"rgb\",     \n",
    "                                          save_to_dir='C:\\\\Users\\\\Lenovo\\\\Downloads\\\\GI-tract\\\\Augmented\\\\ulcerative-colitis-grade-3_augment',   \n",
    "                                          save_prefix='aug',    \n",
    "                                          save_format='png'):    \n",
    "   i += 1    \n",
    "   if i > 13:        \n",
    "     break"
   ]
  },
  {
   "cell_type": "markdown",
   "id": "9315c3a5",
   "metadata": {},
   "source": [
    "## ulcerative-colitis-grade-1 "
   ]
  },
  {
   "cell_type": "code",
   "execution_count": 33,
   "id": "67c4b3ef",
   "metadata": {},
   "outputs": [
    {
     "name": "stdout",
     "output_type": "stream",
     "text": [
      "Found 144 images belonging to 1 classes.\n"
     ]
    }
   ],
   "source": [
    "i = 0\n",
    "for batch in datagen.flow_from_directory(directory='C:\\\\Users\\\\Lenovo\\\\Downloads\\\\GI-tract\\\\ul-1',\n",
    "                                          batch_size=16,\n",
    "                                          target_size=(256, 256),   \n",
    "                                          color_mode=\"rgb\",     \n",
    "                                          save_to_dir='C:\\\\Users\\\\Lenovo\\\\Downloads\\\\GI-tract\\\\Augmented\\\\ulcerative-colitis-grade-1_augment',   \n",
    "                                          save_prefix='aug',    \n",
    "                                          save_format='png'):    \n",
    "   i += 1    \n",
    "   if i > 50:        \n",
    "     break"
   ]
  },
  {
   "cell_type": "markdown",
   "id": "2ba5191d",
   "metadata": {},
   "source": [
    "## esophagitis-b-d"
   ]
  },
  {
   "cell_type": "code",
   "execution_count": 37,
   "id": "6b4ac2b5",
   "metadata": {},
   "outputs": [
    {
     "name": "stdout",
     "output_type": "stream",
     "text": [
      "Found 260 images belonging to 1 classes.\n"
     ]
    }
   ],
   "source": [
    "i = 0\n",
    "for batch in datagen.flow_from_directory(directory='C:\\\\Users\\\\Lenovo\\\\Downloads\\\\GI-tract\\\\es-b-d',\n",
    "                                          batch_size=16,\n",
    "                                          target_size=(256, 256),   \n",
    "                                          color_mode=\"rgb\",     \n",
    "                                          save_to_dir='C:\\\\Users\\\\Lenovo\\\\Downloads\\\\GI-tract\\\\Augmented\\\\esophagitis-b-d_augment',   \n",
    "                                          save_prefix='aug',    \n",
    "                                          save_format='png'):    \n",
    "   i += 1    \n",
    "   if i > 20:        \n",
    "     break"
   ]
  },
  {
   "cell_type": "markdown",
   "id": "037e886a",
   "metadata": {},
   "source": [
    "## retroflex-rectum"
   ]
  },
  {
   "cell_type": "code",
   "execution_count": 39,
   "id": "1d03a56d",
   "metadata": {},
   "outputs": [
    {
     "name": "stdout",
     "output_type": "stream",
     "text": [
      "Found 250 images belonging to 1 classes.\n"
     ]
    }
   ],
   "source": [
    "i = 0\n",
    "for batch in datagen.flow_from_directory(directory='C:\\\\Users\\\\Lenovo\\\\Downloads\\\\GI-tract\\\\r-r',\n",
    "                                          batch_size=16,\n",
    "                                          target_size=(256, 256),   \n",
    "                                          color_mode=\"rgb\",     \n",
    "                                          save_to_dir='C:\\\\Users\\\\Lenovo\\\\Downloads\\\\GI-tract\\\\Augmented\\\\retroflex-rectum_augment',   \n",
    "                                          save_prefix='aug',    \n",
    "                                          save_format='png'):    \n",
    "   i += 1    \n",
    "   if i > 20:        \n",
    "     break"
   ]
  },
  {
   "cell_type": "markdown",
   "id": "7106d5cd",
   "metadata": {},
   "source": [
    "## esophagitis-a"
   ]
  },
  {
   "cell_type": "code",
   "execution_count": 41,
   "id": "909c750f",
   "metadata": {},
   "outputs": [
    {
     "name": "stdout",
     "output_type": "stream",
     "text": [
      "Found 403 images belonging to 1 classes.\n"
     ]
    }
   ],
   "source": [
    "i = 0\n",
    "for batch in datagen.flow_from_directory(directory='C:\\\\Users\\\\Lenovo\\\\Downloads\\\\GI-tract\\\\eso-a',\n",
    "                                          batch_size=16,\n",
    "                                          target_size=(256, 256),   \n",
    "                                          color_mode=\"rgb\",     \n",
    "                                          save_to_dir='C:\\\\Users\\\\Lenovo\\\\Downloads\\\\GI-tract\\\\Augmented\\\\esophagitis-a_augment',   \n",
    "                                          save_prefix='aug',    \n",
    "                                          save_format='png'):    \n",
    "   i += 1    \n",
    "   if i > 50:        \n",
    "     break"
   ]
  },
  {
   "cell_type": "markdown",
   "id": "a079ee97",
   "metadata": {},
   "source": [
    "## ulcerative-colitis-grade-2"
   ]
  },
  {
   "cell_type": "code",
   "execution_count": 43,
   "id": "8af85ba4",
   "metadata": {},
   "outputs": [
    {
     "name": "stdout",
     "output_type": "stream",
     "text": [
      "Found 267 images belonging to 1 classes.\n"
     ]
    }
   ],
   "source": [
    "i = 0\n",
    "for batch in datagen.flow_from_directory(directory='C:\\\\Users\\\\Lenovo\\\\Downloads\\\\GI-tract\\\\ul-2',\n",
    "                                          batch_size=16,\n",
    "                                          target_size=(256, 256),   \n",
    "                                          color_mode=\"rgb\",     \n",
    "                                          save_to_dir='C:\\\\Users\\\\Lenovo\\\\Downloads\\\\GI-tract\\\\Augmented\\\\ulcerative-colitis-grade-2_augment',   \n",
    "                                          save_prefix='aug',    \n",
    "                                          save_format='png'):    \n",
    "   i += 1    \n",
    "   if i > 20:        \n",
    "     break"
   ]
  },
  {
   "cell_type": "markdown",
   "id": "3ab51a7e",
   "metadata": {},
   "source": [
    "## bbps-0-1 "
   ]
  },
  {
   "cell_type": "code",
   "execution_count": 46,
   "id": "fda66a99",
   "metadata": {},
   "outputs": [
    {
     "name": "stdout",
     "output_type": "stream",
     "text": [
      "Found 646 images belonging to 1 classes.\n"
     ]
    }
   ],
   "source": [
    "i = 0\n",
    "for batch in datagen.flow_from_directory(directory='C:\\\\Users\\\\Lenovo\\\\Downloads\\\\GI-tract\\\\bps-1',\n",
    "                                          batch_size=16,\n",
    "                                          target_size=(256, 256),   \n",
    "                                          color_mode=\"rgb\",     \n",
    "                                          save_to_dir='C:\\\\Users\\\\Lenovo\\\\Downloads\\\\GI-tract\\\\Augmented\\\\bbps-0-1_augment',   \n",
    "                                          save_prefix='aug',    \n",
    "                                          save_format='png'):    \n",
    "   i += 1    \n",
    "   if i > 10:        \n",
    "     break"
   ]
  },
  {
   "cell_type": "markdown",
   "id": "12638014",
   "metadata": {},
   "source": [
    "## retroflex-stomach "
   ]
  },
  {
   "cell_type": "code",
   "execution_count": 49,
   "id": "44820334",
   "metadata": {},
   "outputs": [
    {
     "name": "stdout",
     "output_type": "stream",
     "text": [
      "Found 764 images belonging to 1 classes.\n"
     ]
    }
   ],
   "source": [
    "i = 0\n",
    "for batch in datagen.flow_from_directory(directory='C:\\\\Users\\\\Lenovo\\\\Downloads\\\\GI-tract\\\\r-s',\n",
    "                                          batch_size=16,\n",
    "                                          target_size=(256, 256),   \n",
    "                                          color_mode=\"rgb\",     \n",
    "                                          save_to_dir='C:\\\\Users\\\\Lenovo\\\\Downloads\\\\GI-tract\\\\Augmented\\\\retroflex-stomach_augment',   \n",
    "                                          save_prefix='aug',    \n",
    "                                          save_format='png'):    \n",
    "   i += 1    \n",
    "   if i > 8:        \n",
    "     break"
   ]
  },
  {
   "cell_type": "markdown",
   "id": "3db3a310",
   "metadata": {},
   "source": [
    "## z-line "
   ]
  },
  {
   "cell_type": "code",
   "execution_count": 52,
   "id": "e175425d",
   "metadata": {},
   "outputs": [
    {
     "name": "stdout",
     "output_type": "stream",
     "text": [
      "Found 932 images belonging to 1 classes.\n"
     ]
    }
   ],
   "source": [
    "i = 0\n",
    "for batch in datagen.flow_from_directory(directory='C:\\\\Users\\\\Lenovo\\\\Downloads\\\\GI-tract\\\\Z',\n",
    "                                          batch_size=16,\n",
    "                                          target_size=(256, 256),   \n",
    "                                          color_mode=\"rgb\",     \n",
    "                                          save_to_dir='C:\\\\Users\\\\Lenovo\\\\Downloads\\\\GI-tract\\\\Augmented\\\\z-line_augment',   \n",
    "                                          save_prefix='aug',    \n",
    "                                          save_format='png'):    \n",
    "   i += 1    \n",
    "   if i > 10:        \n",
    "     break"
   ]
  }
 ],
 "metadata": {
  "kernelspec": {
   "display_name": "Python 3 (ipykernel)",
   "language": "python",
   "name": "python3"
  },
  "language_info": {
   "codemirror_mode": {
    "name": "ipython",
    "version": 3
   },
   "file_extension": ".py",
   "mimetype": "text/x-python",
   "name": "python",
   "nbconvert_exporter": "python",
   "pygments_lexer": "ipython3",
   "version": "3.9.7"
  }
 },
 "nbformat": 4,
 "nbformat_minor": 5
}
